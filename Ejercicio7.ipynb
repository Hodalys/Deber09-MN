{
  "nbformat": 4,
  "nbformat_minor": 0,
  "metadata": {
    "colab": {
      "provenance": []
    },
    "kernelspec": {
      "name": "python3",
      "display_name": "Python 3"
    },
    "language_info": {
      "name": "python"
    }
  },
  "cells": [
    {
      "cell_type": "code",
      "source": [
        "# Aplicación del método de Gauss-Jordan\n",
        "import numpy as np\n",
        "\n",
        "def gauss_jordan_solver(A):\n",
        "\n",
        "    # Convertir la matriz a aritmética de 32 bits\n",
        "    A = A.astype(np.float32)\n",
        "\n",
        "    # Realizar la eliminación de Gauss-Jordan\n",
        "    for i in range(A.shape[0]):\n",
        "        # Hacer la fila i como la fila líder\n",
        "        pivot = A[i, i]\n",
        "        if pivot == 0:\n",
        "            # Si el pivot es cero, saltar a la siguiente fila\n",
        "            continue\n",
        "        A[i, :] /= pivot\n",
        "\n",
        "        # Eliminar los elementos debajo del pivot\n",
        "        for j in range(A.shape[0]):\n",
        "            if j != i:\n",
        "                lv = A[j, i]\n",
        "                A[j, :] -= lv * A[i, :]\n",
        "\n",
        "    # Extraer las soluciones\n",
        "    solutions = A[:, -1]\n",
        "\n",
        "    return solutions\n",
        "\n",
        "# Ejercicio 7, literal a\n",
        "A = np.array([[1/4, 1/5, 1/6, 9],\n",
        "              [1/3, 1/4, 1/5, 8],\n",
        "              [1/2, 1, 2, 8]])\n",
        "\n",
        "solutions = gauss_jordan_solver(A)\n",
        "\n",
        "print(\"Soluciones del sistema a:\")\n",
        "print(f\"x1 = {solutions[0]:.3f}\")\n",
        "print(f\"x2 = {solutions[1]:.3f}\")\n",
        "print(f\"x3 = {solutions[2]:.3f}\")\n"
      ],
      "metadata": {
        "colab": {
          "base_uri": "https://localhost:8080/"
        },
        "id": "P9J2eA6a3LbX",
        "outputId": "b71c3986-b1c4-4f41-e1b4-75424e3a7bc8"
      },
      "execution_count": 6,
      "outputs": [
        {
          "output_type": "stream",
          "name": "stdout",
          "text": [
            "Soluciones del sistema a:\n",
            "x1 = -227.077\n",
            "x2 = 476.923\n",
            "x3 = -177.692\n"
          ]
        }
      ]
    },
    {
      "cell_type": "code",
      "source": [
        "# Ejercicio 7, literal b\n",
        "B = np.array([[3.333, 15920, -10.333, 15913],\n",
        "              [2.222, 16.71, 9.612, 28.544],\n",
        "              [1.5611, 5.1791, 1.6852, 8.4254]])\n",
        "\n",
        "solutions = gauss_jordan_solver(B)\n",
        "\n",
        "print(\"Soluciones del sistema b:\")\n",
        "print(f\"x1 = {solutions[0]:.3f}\")\n",
        "print(f\"x2 = {solutions[1]:.3f}\")\n",
        "print(f\"x3 = {solutions[2]:.3f}\")"
      ],
      "metadata": {
        "colab": {
          "base_uri": "https://localhost:8080/"
        },
        "id": "pQVKg9oE5vYj",
        "outputId": "99803750-7b81-4002-8043-c1c0f9dfaa4a"
      },
      "execution_count": 7,
      "outputs": [
        {
          "output_type": "stream",
          "name": "stdout",
          "text": [
            "Soluciones del sistema b:\n",
            "x1 = 1.000\n",
            "x2 = 1.000\n",
            "x3 = 1.000\n"
          ]
        }
      ]
    },
    {
      "cell_type": "code",
      "source": [
        "# Ejercicio 7, literal c\n",
        "C = np.array([[1, 1/2, 1/3, 1/4, 1/6],\n",
        "              [1/2, 1/3, 1/4, 1/5, 1/7],\n",
        "              [1/3, 1/4, 1/5, 1/6, 1/8],\n",
        "              [1/4, 1/5, 1/6, 1/7, 1/9]])\n",
        "\n",
        "solutions = gauss_jordan_solver(C)\n",
        "\n",
        "print(\"Soluciones del sistema c:\")\n",
        "print(f\"x1 = {solutions[0]:.3f}\")\n",
        "print(f\"x2 = {solutions[1]:.3f}\")\n",
        "print(f\"x3 = {solutions[2]:.3f}\")\n",
        "print(f\"x4 = {solutions[3]:.3f}\")"
      ],
      "metadata": {
        "colab": {
          "base_uri": "https://localhost:8080/"
        },
        "id": "ImxwK08u6t6T",
        "outputId": "473fb3a9-55c6-4168-96d1-e25e98b8502e"
      },
      "execution_count": 8,
      "outputs": [
        {
          "output_type": "stream",
          "name": "stdout",
          "text": [
            "Soluciones del sistema c:\n",
            "x1 = -0.032\n",
            "x2 = 0.595\n",
            "x3 = -2.381\n",
            "x4 = 2.778\n"
          ]
        }
      ]
    },
    {
      "cell_type": "code",
      "source": [
        "# Ejercicio 7, literal d\n",
        "D = np.array([[2, 1, -1, 1, -3, 7],\n",
        "              [1, 0, 2, -1, 1, 2],\n",
        "              [0, -2, -1, 1, -1, -5],\n",
        "              [3, 1, -4, 0, 5, 6],\n",
        "              [1, -1, -1, -1, 1, -3]])\n",
        "\n",
        "solutions = gauss_jordan_solver(D)\n",
        "\n",
        "print(\"Soluciones del sistema d:\")\n",
        "print(f\"x1 = {solutions[0]:.3f}\")\n",
        "print(f\"x2 = {solutions[1]:.3f}\")\n",
        "print(f\"x3 = {solutions[2]:.3f}\")\n",
        "print(f\"x4 = {solutions[3]:.3f}\")\n",
        "print(f\"x5 = {solutions[4]:.3f}\")"
      ],
      "metadata": {
        "colab": {
          "base_uri": "https://localhost:8080/"
        },
        "id": "exKsdP-27qf-",
        "outputId": "dd78e481-00ca-4aa8-8cc2-d94b4445788c"
      },
      "execution_count": 9,
      "outputs": [
        {
          "output_type": "stream",
          "name": "stdout",
          "text": [
            "Soluciones del sistema d:\n",
            "x1 = 1.883\n",
            "x2 = 2.807\n",
            "x3 = 0.731\n",
            "x4 = 1.439\n",
            "x5 = 0.094\n"
          ]
        }
      ]
    }
  ]
}