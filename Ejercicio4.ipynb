{
  "cells": [
    {
      "cell_type": "code",
      "execution_count": 58,
      "metadata": {
        "colab": {
          "base_uri": "https://localhost:8080/"
        },
        "id": "DSG4ARluh0Tw",
        "outputId": "b37ebd61-5b30-4c52-8a66-87c2c95a9ef5"
      },
      "outputs": [
        {
          "name": "stdout",
          "output_type": "stream",
          "text": [
            "La solución del sistema a es:\n",
            "x1 ≈ -227.0767\n",
            "x2 ≈ 476.9226\n",
            "x3 ≈ -177.6922\n"
          ]
        }
      ],
      "source": [
        "import numpy as np\n",
        "\n",
        "# Función para realizar eliminación gaussiana\n",
        "def gauss_elimination(Ab):\n",
        "    n = Ab.shape[0]\n",
        "\n",
        "    for i in range(n):\n",
        "        # Hacer que el elemento diagonal sea 1\n",
        "        Ab[i] = Ab[i] / Ab[i, i]\n",
        "\n",
        "        # Hacer ceros en la columna i\n",
        "        for j in range(i + 1, n):\n",
        "            Ab[j] = Ab[j] - Ab[j, i] * Ab[i]\n",
        "\n",
        "    # Verificar si hay solución única\n",
        "    for i in range(n):\n",
        "        if np.isclose(Ab[i, :-1], 0).all() and not np.isclose(Ab[i, -1], 0):\n",
        "            print(\"No existe solución al sistema.\")\n",
        "            return None\n",
        "\n",
        "    # Sustitución hacia atrás\n",
        "    x = np.zeros(n, dtype=np.float32)\n",
        "    for i in range(n - 1, -1, -1):\n",
        "        x[i] = Ab[i, -1] - np.dot(Ab[i, i + 1:n], x[i + 1:n])\n",
        "\n",
        "    return x\n",
        "\n",
        "# Definir la matriz de coeficientes y el vector de términos independientes\n",
        "A = np.array([[1/4, 1/5, 1/6],\n",
        "              [1/3, 1/4, 1/5],\n",
        "              [1/2, 1, 2]], dtype=np.float32)\n",
        "\n",
        "b = np.array([9, 8, 8], dtype=np.float32)\n",
        "\n",
        "# Combinamos A y b en una matriz aumentada\n",
        "Ab = np.hstack((A, b.reshape(-1, 1)))\n",
        "\n",
        "# Llamar a la función de eliminación gaussiana\n",
        "solution = gauss_elimination(Ab)\n",
        "\n",
        "# Ejercicio 4, literal a\n",
        "if solution is not None:\n",
        "    print(\"La solución del sistema a es:\")\n",
        "    print(f\"x1 ≈ {solution[0]:.4f}\")\n",
        "    print(f\"x2 ≈ {solution[1]:.4f}\")\n",
        "    print(f\"x3 ≈ {solution[2]:.4f}\")"
      ]
    },
    {
      "cell_type": "code",
      "execution_count": 61,
      "metadata": {
        "colab": {
          "base_uri": "https://localhost:8080/"
        },
        "id": "q-RwK_vXinTG",
        "outputId": "ff2aa337-4032-47a9-e489-e5f51d85da1e"
      },
      "outputs": [
        {
          "name": "stdout",
          "output_type": "stream",
          "text": [
            "La solución del sistema b es:\n",
            "x1 ≈ 1.0000\n",
            "x2 ≈ 1.0000\n",
            "x3 ≈ 1.0001\n"
          ]
        }
      ],
      "source": [
        "A = np.array([[3.333, 15920, -10.333],\n",
        "              [2.222, 16.71, 9.612],\n",
        "              [1.5611, 5.1791, 1.6852]], dtype=np.float32)\n",
        "\n",
        "b = np.array([15913, 28.544, 8.4254], dtype=np.float32)\n",
        "\n",
        "# Combinamos A y b en una matriz aumentada\n",
        "Ab = np.hstack((A, b.reshape(-1, 1)))\n",
        "\n",
        "# Llamar a la función de eliminación gaussiana\n",
        "solution = gauss_elimination(Ab)\n",
        "\n",
        "# Ejercicio 4, literal b\n",
        "if solution is not None:\n",
        "    print(\"La solución del sistema b es:\")\n",
        "    print(f\"x1 ≈ {solution[0]:.4f}\")\n",
        "    print(f\"x2 ≈ {solution[1]:.4f}\")\n",
        "    print(f\"x3 ≈ {solution[2]:.4f}\")\n"
      ]
    },
    {
      "cell_type": "code",
      "execution_count": 62,
      "metadata": {
        "colab": {
          "base_uri": "https://localhost:8080/"
        },
        "id": "ER3Ru5VTjjgo",
        "outputId": "13f537bf-a60e-4f13-c0d1-c16c29bb18d1"
      },
      "outputs": [
        {
          "name": "stdout",
          "output_type": "stream",
          "text": [
            "La solución del sistema c es:\n",
            "x1 ≈ -0.0317\n",
            "x2 ≈ 0.5953\n",
            "x3 ≈ -2.3810\n",
            "x4 ≈ 2.7778\n"
          ]
        }
      ],
      "source": [
        "A = np.array([[1, 1/2, 1/3, 1/4],\n",
        "              [1/2, 1/3, 1/4, 1/5],\n",
        "              [1/3, 1/4, 1/5, 1/6],\n",
        "              [1/4, 1/5, 1/6, 1/7]], dtype=np.float32)\n",
        "\n",
        "b = np.array([1/6, 1/7, 1/8, 1/9], dtype=np.float32)\n",
        "\n",
        "# Combinamos A y b en una matriz aumentada\n",
        "Ab = np.hstack((A, b.reshape(-1, 1)))\n",
        "\n",
        "# Llamar a la función de eliminación gaussiana\n",
        "solution = gauss_elimination(Ab)\n",
        "\n",
        "# Ejercicio 4, literal c\n",
        "if solution is not None:\n",
        "    print(\"La solución del sistema c es:\")\n",
        "    print(f\"x1 ≈ {solution[0]:.4f}\")\n",
        "    print(f\"x2 ≈ {solution[1]:.4f}\")\n",
        "    print(f\"x3 ≈ {solution[2]:.4f}\")\n",
        "    print(f\"x4 ≈ {solution[3]:.4f}\")"
      ]
    },
    {
      "cell_type": "code",
      "execution_count": 64,
      "metadata": {
        "colab": {
          "base_uri": "https://localhost:8080/"
        },
        "id": "0CrYTnkakJi0",
        "outputId": "5ed749be-30ad-4e3b-dcbf-634e60faa493"
      },
      "outputs": [
        {
          "name": "stdout",
          "output_type": "stream",
          "text": [
            "La solución del sistema d es:\n",
            "x1 ≈ 1.8830\n",
            "x2 ≈ 2.8070\n",
            "x3 ≈ 0.7310\n",
            "x4 ≈ 1.4386\n",
            "x5 ≈ 0.0936\n"
          ]
        }
      ],
      "source": [
        "A = np.array([[2, 1, -1, 1, -3],\n",
        "              [1, 0, 2, -1, 1],\n",
        "              [0, -2, -1, 1, -1],\n",
        "              [3, 1, -4, 0, 5],\n",
        "              [1, -1, -1, -1, 1]], dtype=np.float32)\n",
        "\n",
        "b = np.array([7, 2, -5, 6, -3], dtype=np.float32)\n",
        "\n",
        "# Combinamos A y b en una matriz aumentada\n",
        "Ab = np.hstack((A, b.reshape(-1, 1)))\n",
        "\n",
        "# Llamar a la función de eliminación gaussiana\n",
        "solution = gauss_elimination(Ab)\n",
        "\n",
        "# Ejercicio 4, literal d\n",
        "if solution is not None:\n",
        "    print(\"La solución del sistema d es:\")\n",
        "    print(f\"x1 ≈ {solution[0]:.4f}\")\n",
        "    print(f\"x2 ≈ {solution[1]:.4f}\")\n",
        "    print(f\"x3 ≈ {solution[2]:.4f}\")\n",
        "    print(f\"x4 ≈ {solution[3]:.4f}\")\n",
        "    print(f\"x5 ≈ {solution[4]:.4f}\")"
      ]
    }
  ],
  "metadata": {
    "colab": {
      "provenance": []
    },
    "kernelspec": {
      "display_name": "Python 3",
      "name": "python3"
    },
    "language_info": {
      "name": "python"
    }
  },
  "nbformat": 4,
  "nbformat_minor": 0
}
