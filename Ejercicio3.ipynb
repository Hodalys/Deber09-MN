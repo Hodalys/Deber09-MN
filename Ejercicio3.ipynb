{
  "nbformat": 4,
  "nbformat_minor": 0,
  "metadata": {
    "colab": {
      "provenance": []
    },
    "kernelspec": {
      "name": "python3",
      "display_name": "Python 3"
    },
    "language_info": {
      "name": "python"
    }
  },
  "cells": [
    {
      "cell_type": "code",
      "source": [
        "import numpy as np\n",
        "\n",
        "def gauss_elimination(A):\n",
        "    n = A.shape[0] # Define el número de filas\n",
        "\n",
        "    for i in range(n):\n",
        "        # Intercambio de filas si el pivote es cero\n",
        "        if A[i, i] == 0:\n",
        "            for k in range(i + 1, n):\n",
        "                if A[k, i] != 0:\n",
        "                    A[[i, k]] = A[[k, i]]  # Intercambiar filas\n",
        "                    break\n",
        "\n",
        "        # Hacemos que el pivote sea 1\n",
        "        A[i] = A[i] / A[i, i]\n",
        "\n",
        "        # Eliminamos las entradas debajo del pivote\n",
        "        for j in range(i + 1, n):\n",
        "            A[j] = A[j] - A[j, i] * A[i]\n",
        "\n",
        "    # Aplicamos sustitución hacia atrás\n",
        "    x = np.zeros(n)\n",
        "\n",
        "    for i in range(n-1, -1, -1):\n",
        "        x[i] = A[i, -1] - np.sum(A[i, i+1:n] * x[i+1:n])\n",
        "\n",
        "    return x\n",
        "\n",
        "# Definimos la matriz aumentada del sistema\n",
        "A = np.array([[1, -1, 3, 2],\n",
        "              [3, -3, 1, -1],\n",
        "              [1, 1, 0, 3]], dtype=float)\n",
        "\n",
        "# Llamamos a la función\n",
        "solution = gauss_elimination(A)\n",
        "\n",
        "# Mostramos los resultados\n",
        "print(\"Solución del sistema a:\")\n",
        "print(f\"x1 = {solution[0]}\")\n",
        "print(f\"x2 = {solution[1]}\")\n",
        "print(f\"x3 = {solution[2]}\")\n"
      ],
      "metadata": {
        "colab": {
          "base_uri": "https://localhost:8080/"
        },
        "id": "pgSvNPUWDffG",
        "outputId": "65a52be7-2c4b-45ce-9937-0ba34ffad9da"
      },
      "execution_count": 40,
      "outputs": [
        {
          "output_type": "stream",
          "name": "stdout",
          "text": [
            "Solución del sistema a:\n",
            "x1 = 1.1875\n",
            "x2 = 1.8125\n",
            "x3 = 0.875\n"
          ]
        }
      ]
    },
    {
      "cell_type": "code",
      "source": [
        "B = np.array([[2, -1.5, 3, 1],\n",
        "              [-1, 0, 2, 3],\n",
        "              [4, -4.5, 5, 1]], dtype=float)\n",
        "\n",
        "# Llamamos a la función\n",
        "solution = gauss_elimination(B)\n",
        "\n",
        "# Mostramos los resultados\n",
        "print(\"Solución del sistema b:\")\n",
        "print(f\"x1 = {solution[0]}\")\n",
        "print(f\"x2 = {solution[1]}\")\n",
        "print(f\"x3 = {solution[2]}\")"
      ],
      "metadata": {
        "id": "kiqbafwyMexF",
        "colab": {
          "base_uri": "https://localhost:8080/"
        },
        "outputId": "406c3570-d73b-4c05-803c-4ff6d06da0cd"
      },
      "execution_count": 41,
      "outputs": [
        {
          "output_type": "stream",
          "name": "stdout",
          "text": [
            "Solución del sistema b:\n",
            "x1 = -1.0\n",
            "x2 = 0.0\n",
            "x3 = 1.0\n"
          ]
        }
      ]
    },
    {
      "cell_type": "code",
      "source": [
        "C = np.array([[2, 0, 0, 0, 3],\n",
        "              [1, 1.5, 0, 0, 4.5],\n",
        "              [0, -3, 0.5, 0, -6.6],\n",
        "              [2, -2, 1, 1, 0.8]], dtype=float)\n",
        "\n",
        "# Llamamos a la función\n",
        "solution = gauss_elimination(C)\n",
        "\n",
        "# Mostramos los resultados\n",
        "print(\"Solución del sistema c:\")\n",
        "print(f\"x1 = {solution[0]}\")\n",
        "print(f\"x2 = {solution[1]}\")\n",
        "print(f\"x3 = {solution[2]}\")\n",
        "print(f\"x4 = {solution[3]}\")"
      ],
      "metadata": {
        "colab": {
          "base_uri": "https://localhost:8080/"
        },
        "id": "mpACqj4bOOTx",
        "outputId": "1ca4a7cd-24c8-4fbb-e585-2fc87601f840"
      },
      "execution_count": 42,
      "outputs": [
        {
          "output_type": "stream",
          "name": "stdout",
          "text": [
            "Solución del sistema c:\n",
            "x1 = 1.5\n",
            "x2 = 2.0\n",
            "x3 = -1.1999999999999993\n",
            "x4 = 2.999999999999999\n"
          ]
        }
      ]
    },
    {
      "cell_type": "code",
      "source": [
        "D = np.array([[1, 1, 0, 1, 2],\n",
        "              [2, 1, -1, 1, 1],\n",
        "              [4, -1, -2, 2, 0],\n",
        "              [3, -1, -1, 2, -3]], dtype=float)\n",
        "\n",
        "# Llamamos a la función\n",
        "solution = gauss_elimination(D)\n",
        "\n",
        "# Mostramos los resultados\n",
        "print(\"Solución del sistema d:\")\n",
        "print(f\"x1 = {solution[0]}\")\n",
        "print(f\"x2 = {solution[1]}\")\n",
        "print(f\"x3 = {solution[2]}\")\n",
        "print(f\"x4 = {solution[3]}\")"
      ],
      "metadata": {
        "colab": {
          "base_uri": "https://localhost:8080/"
        },
        "id": "95hL47KsQ1Tq",
        "outputId": "e84d0775-3381-424f-d8fc-a34d69133aa2"
      },
      "execution_count": 49,
      "outputs": [
        {
          "output_type": "stream",
          "name": "stdout",
          "text": [
            "Solución del sistema d:\n",
            "x1 = nan\n",
            "x2 = nan\n",
            "x3 = inf\n",
            "x4 = -inf\n"
          ]
        },
        {
          "output_type": "stream",
          "name": "stderr",
          "text": [
            "<ipython-input-40-c757ac99d561>:15: RuntimeWarning: divide by zero encountered in divide\n",
            "  A[i] = A[i] / A[i, i]\n",
            "<ipython-input-40-c757ac99d561>:15: RuntimeWarning: invalid value encountered in divide\n",
            "  A[i] = A[i] / A[i, i]\n",
            "<ipython-input-40-c757ac99d561>:25: RuntimeWarning: invalid value encountered in multiply\n",
            "  x[i] = A[i, -1] - np.sum(A[i, i+1:n] * x[i+1:n])\n"
          ]
        }
      ]
    }
  ]
}